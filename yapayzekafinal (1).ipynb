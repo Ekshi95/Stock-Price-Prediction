{
  "cells": [
    {
      "cell_type": "code",
      "execution_count": null,
      "metadata": {
        "colab": {
          "base_uri": "https://localhost:8080/"
        },
        "id": "JPAz-FjY_LxC",
        "outputId": "493116f6-71ed-45d9-badb-08ea7a909ca7"
      },
      "outputs": [
        {
          "output_type": "stream",
          "name": "stdout",
          "text": [
            "Looking in indexes: https://pypi.org/simple, https://us-python.pkg.dev/colab-wheels/public/simple/\n",
            "Requirement already satisfied: keras in /usr/local/lib/python3.10/dist-packages (2.12.0)\n",
            "Looking in indexes: https://pypi.org/simple, https://us-python.pkg.dev/colab-wheels/public/simple/\n",
            "Requirement already satisfied: tensorflow in /usr/local/lib/python3.10/dist-packages (2.12.0)\n",
            "Requirement already satisfied: absl-py>=1.0.0 in /usr/local/lib/python3.10/dist-packages (from tensorflow) (1.4.0)\n",
            "Requirement already satisfied: astunparse>=1.6.0 in /usr/local/lib/python3.10/dist-packages (from tensorflow) (1.6.3)\n",
            "Requirement already satisfied: flatbuffers>=2.0 in /usr/local/lib/python3.10/dist-packages (from tensorflow) (23.3.3)\n",
            "Requirement already satisfied: gast<=0.4.0,>=0.2.1 in /usr/local/lib/python3.10/dist-packages (from tensorflow) (0.4.0)\n",
            "Requirement already satisfied: google-pasta>=0.1.1 in /usr/local/lib/python3.10/dist-packages (from tensorflow) (0.2.0)\n",
            "Requirement already satisfied: grpcio<2.0,>=1.24.3 in /usr/local/lib/python3.10/dist-packages (from tensorflow) (1.54.0)\n",
            "Requirement already satisfied: h5py>=2.9.0 in /usr/local/lib/python3.10/dist-packages (from tensorflow) (3.8.0)\n",
            "Requirement already satisfied: jax>=0.3.15 in /usr/local/lib/python3.10/dist-packages (from tensorflow) (0.4.10)\n",
            "Requirement already satisfied: keras<2.13,>=2.12.0 in /usr/local/lib/python3.10/dist-packages (from tensorflow) (2.12.0)\n",
            "Requirement already satisfied: libclang>=13.0.0 in /usr/local/lib/python3.10/dist-packages (from tensorflow) (16.0.0)\n",
            "Requirement already satisfied: numpy<1.24,>=1.22 in /usr/local/lib/python3.10/dist-packages (from tensorflow) (1.22.4)\n",
            "Requirement already satisfied: opt-einsum>=2.3.2 in /usr/local/lib/python3.10/dist-packages (from tensorflow) (3.3.0)\n",
            "Requirement already satisfied: packaging in /usr/local/lib/python3.10/dist-packages (from tensorflow) (23.1)\n",
            "Requirement already satisfied: protobuf!=4.21.0,!=4.21.1,!=4.21.2,!=4.21.3,!=4.21.4,!=4.21.5,<5.0.0dev,>=3.20.3 in /usr/local/lib/python3.10/dist-packages (from tensorflow) (3.20.3)\n",
            "Requirement already satisfied: setuptools in /usr/local/lib/python3.10/dist-packages (from tensorflow) (67.7.2)\n",
            "Requirement already satisfied: six>=1.12.0 in /usr/local/lib/python3.10/dist-packages (from tensorflow) (1.16.0)\n",
            "Requirement already satisfied: tensorboard<2.13,>=2.12 in /usr/local/lib/python3.10/dist-packages (from tensorflow) (2.12.2)\n",
            "Requirement already satisfied: tensorflow-estimator<2.13,>=2.12.0 in /usr/local/lib/python3.10/dist-packages (from tensorflow) (2.12.0)\n",
            "Requirement already satisfied: termcolor>=1.1.0 in /usr/local/lib/python3.10/dist-packages (from tensorflow) (2.3.0)\n",
            "Requirement already satisfied: typing-extensions>=3.6.6 in /usr/local/lib/python3.10/dist-packages (from tensorflow) (4.5.0)\n",
            "Requirement already satisfied: wrapt<1.15,>=1.11.0 in /usr/local/lib/python3.10/dist-packages (from tensorflow) (1.14.1)\n",
            "Requirement already satisfied: tensorflow-io-gcs-filesystem>=0.23.1 in /usr/local/lib/python3.10/dist-packages (from tensorflow) (0.32.0)\n",
            "Requirement already satisfied: wheel<1.0,>=0.23.0 in /usr/local/lib/python3.10/dist-packages (from astunparse>=1.6.0->tensorflow) (0.40.0)\n",
            "Requirement already satisfied: ml-dtypes>=0.1.0 in /usr/local/lib/python3.10/dist-packages (from jax>=0.3.15->tensorflow) (0.1.0)\n",
            "Requirement already satisfied: scipy>=1.7 in /usr/local/lib/python3.10/dist-packages (from jax>=0.3.15->tensorflow) (1.10.1)\n",
            "Requirement already satisfied: google-auth<3,>=1.6.3 in /usr/local/lib/python3.10/dist-packages (from tensorboard<2.13,>=2.12->tensorflow) (2.17.3)\n",
            "Requirement already satisfied: google-auth-oauthlib<1.1,>=0.5 in /usr/local/lib/python3.10/dist-packages (from tensorboard<2.13,>=2.12->tensorflow) (1.0.0)\n",
            "Requirement already satisfied: markdown>=2.6.8 in /usr/local/lib/python3.10/dist-packages (from tensorboard<2.13,>=2.12->tensorflow) (3.4.3)\n",
            "Requirement already satisfied: requests<3,>=2.21.0 in /usr/local/lib/python3.10/dist-packages (from tensorboard<2.13,>=2.12->tensorflow) (2.27.1)\n",
            "Requirement already satisfied: tensorboard-data-server<0.8.0,>=0.7.0 in /usr/local/lib/python3.10/dist-packages (from tensorboard<2.13,>=2.12->tensorflow) (0.7.0)\n",
            "Requirement already satisfied: tensorboard-plugin-wit>=1.6.0 in /usr/local/lib/python3.10/dist-packages (from tensorboard<2.13,>=2.12->tensorflow) (1.8.1)\n",
            "Requirement already satisfied: werkzeug>=1.0.1 in /usr/local/lib/python3.10/dist-packages (from tensorboard<2.13,>=2.12->tensorflow) (2.3.0)\n",
            "Requirement already satisfied: cachetools<6.0,>=2.0.0 in /usr/local/lib/python3.10/dist-packages (from google-auth<3,>=1.6.3->tensorboard<2.13,>=2.12->tensorflow) (5.3.0)\n",
            "Requirement already satisfied: pyasn1-modules>=0.2.1 in /usr/local/lib/python3.10/dist-packages (from google-auth<3,>=1.6.3->tensorboard<2.13,>=2.12->tensorflow) (0.3.0)\n",
            "Requirement already satisfied: rsa<5,>=3.1.4 in /usr/local/lib/python3.10/dist-packages (from google-auth<3,>=1.6.3->tensorboard<2.13,>=2.12->tensorflow) (4.9)\n",
            "Requirement already satisfied: requests-oauthlib>=0.7.0 in /usr/local/lib/python3.10/dist-packages (from google-auth-oauthlib<1.1,>=0.5->tensorboard<2.13,>=2.12->tensorflow) (1.3.1)\n",
            "Requirement already satisfied: urllib3<1.27,>=1.21.1 in /usr/local/lib/python3.10/dist-packages (from requests<3,>=2.21.0->tensorboard<2.13,>=2.12->tensorflow) (1.26.15)\n",
            "Requirement already satisfied: certifi>=2017.4.17 in /usr/local/lib/python3.10/dist-packages (from requests<3,>=2.21.0->tensorboard<2.13,>=2.12->tensorflow) (2022.12.7)\n",
            "Requirement already satisfied: charset-normalizer~=2.0.0 in /usr/local/lib/python3.10/dist-packages (from requests<3,>=2.21.0->tensorboard<2.13,>=2.12->tensorflow) (2.0.12)\n",
            "Requirement already satisfied: idna<4,>=2.5 in /usr/local/lib/python3.10/dist-packages (from requests<3,>=2.21.0->tensorboard<2.13,>=2.12->tensorflow) (3.4)\n",
            "Requirement already satisfied: MarkupSafe>=2.1.1 in /usr/local/lib/python3.10/dist-packages (from werkzeug>=1.0.1->tensorboard<2.13,>=2.12->tensorflow) (2.1.2)\n",
            "Requirement already satisfied: pyasn1<0.6.0,>=0.4.6 in /usr/local/lib/python3.10/dist-packages (from pyasn1-modules>=0.2.1->google-auth<3,>=1.6.3->tensorboard<2.13,>=2.12->tensorflow) (0.5.0)\n",
            "Requirement already satisfied: oauthlib>=3.0.0 in /usr/local/lib/python3.10/dist-packages (from requests-oauthlib>=0.7.0->google-auth-oauthlib<1.1,>=0.5->tensorboard<2.13,>=2.12->tensorflow) (3.2.2)\n"
          ]
        }
      ],
      "source": [
        "!pip install --user keras\n",
        "!pip install --user tensorflow\n"
      ]
    },
    {
      "cell_type": "code",
      "execution_count": null,
      "metadata": {
        "id": "Y3Ph9lko_8KP"
      },
      "outputs": [],
      "source": [
        "import numpy as np\n",
        "import matplotlib.pyplot as plt\n",
        "import pandas as pd"
      ]
    },
    {
      "cell_type": "code",
      "execution_count": null,
      "metadata": {
        "colab": {
          "base_uri": "https://localhost:8080/"
        },
        "id": "ttb86lUgBEmc",
        "outputId": "bf32d553-eba0-4e09-fd09-638430985699"
      },
      "outputs": [
        {
          "output_type": "stream",
          "name": "stdout",
          "text": [
            "Drive already mounted at /content/gdrive; to attempt to forcibly remount, call drive.mount(\"/content/gdrive\", force_remount=True).\n"
          ]
        }
      ],
      "source": [
        "from google.colab import drive\n",
        "drive.mount('/content/gdrive')"
      ]
    },
    {
      "cell_type": "code",
      "execution_count": null,
      "metadata": {
        "colab": {
          "base_uri": "https://localhost:8080/"
        },
        "id": "mylBbJlzBgoz",
        "outputId": "759ab47c-dd42-495d-cc80-f864fd5e6400"
      },
      "outputs": [
        {
          "output_type": "stream",
          "name": "stdout",
          "text": [
            "/content/gdrive/MyDrive/Colab Notebooks\n"
          ]
        }
      ],
      "source": [
        "%cd /content/gdrive/MyDrive/Colab Notebooks/"
      ]
    },
    {
      "cell_type": "code",
      "execution_count": null,
      "metadata": {
        "colab": {
          "base_uri": "https://localhost:8080/"
        },
        "id": "5lgcwoy3BtMA",
        "outputId": "388e6d62-15c6-4a0e-c07d-58decca36303"
      },
      "outputs": [
        {
          "output_type": "stream",
          "name": "stdout",
          "text": [
            " Amazon.csv\n",
            "'A TALE OF TWO CITIES.txt'\n",
            " movie.csv\n",
            " MSFT_test.csv\n",
            " MSFT_training.csv\n",
            " NFLX.csv\n",
            " NlpFinal.ipynb\n",
            " NlpVize\n",
            "'Topic models with Gensim.ipynb adlı not defterinin kopyası'\n",
            " word2vec.ipynb\n",
            " word2vec.model\n",
            " yapayzekafinal.ipynb\n"
          ]
        }
      ],
      "source": [
        "!ls\n"
      ]
    },
    {
      "cell_type": "code",
      "execution_count": null,
      "metadata": {
        "id": "AU5T2qY-AWC5"
      },
      "outputs": [],
      "source": [
        "dataset_train = pd.read_csv('MSFT_training.csv')\n",
        "training_set = dataset_train.iloc[:, 1:2].values"
      ]
    },
    {
      "cell_type": "code",
      "execution_count": null,
      "metadata": {
        "id": "lcIs3XK-CVjL"
      },
      "outputs": [],
      "source": [
        "from sklearn.preprocessing import MinMaxScaler\n",
        "sc = MinMaxScaler(feature_range= (0,1))\n",
        "training_set_scaled = sc.fit_transform(training_set)"
      ]
    },
    {
      "cell_type": "code",
      "execution_count": null,
      "metadata": {
        "id": "PAtR1KKVDARf"
      },
      "outputs": [],
      "source": [
        "x_train = []\n",
        "y_train = []\n",
        "for i in range (60, len(training_set_scaled)) :\n",
        "  x_train.append(training_set_scaled[i-60:i,0])\n",
        "  y_train.append(training_set_scaled[i,0])\n",
        "x_train, y_train = np.array(x_train), np.array(y_train)"
      ]
    },
    {
      "cell_type": "code",
      "execution_count": null,
      "metadata": {
        "id": "fGAmRZK7EAnS"
      },
      "outputs": [],
      "source": [
        "x_train = np.reshape(x_train, newshape = (x_train.shape[0], x_train.shape[1], 1))"
      ]
    },
    {
      "cell_type": "code",
      "execution_count": null,
      "metadata": {
        "id": "B3QZG0plFq8N"
      },
      "outputs": [],
      "source": [
        "from keras.models import Sequential\n",
        "from keras.layers import Dense\n",
        "from keras.layers import LSTM\n",
        "from keras.layers import Dropout"
      ]
    },
    {
      "cell_type": "code",
      "execution_count": null,
      "metadata": {
        "id": "Bc2g-ILRF6gH"
      },
      "outputs": [],
      "source": [
        "regressor = Sequential()"
      ]
    },
    {
      "cell_type": "code",
      "execution_count": null,
      "metadata": {
        "id": "aQgw2hQKGAzp"
      },
      "outputs": [],
      "source": [
        "regressor.add(LSTM(units = 50 , return_sequences = True , input_shape = (x_train.shape[1] , 1)))\n",
        "regressor.add(Dropout(0.2))"
      ]
    },
    {
      "cell_type": "code",
      "execution_count": null,
      "metadata": {
        "id": "mx170uF2GavZ"
      },
      "outputs": [],
      "source": [
        "regressor.add(LSTM(units = 50 , return_sequences = True))\n",
        "regressor.add(Dropout(0.2))"
      ]
    },
    {
      "cell_type": "code",
      "execution_count": null,
      "metadata": {
        "id": "IcjdG-opGzza"
      },
      "outputs": [],
      "source": [
        "regressor.add(LSTM(units = 50 , return_sequences = True))\n",
        "regressor.add(Dropout(0.2))"
      ]
    },
    {
      "cell_type": "code",
      "execution_count": null,
      "metadata": {
        "id": "ag36eiouG4A2"
      },
      "outputs": [],
      "source": [
        "regressor.add(LSTM(units = 50 , return_sequences = False))\n",
        "regressor.add(Dropout(0.2))"
      ]
    },
    {
      "cell_type": "code",
      "execution_count": null,
      "metadata": {
        "id": "poJdXGIOHAKg"
      },
      "outputs": [],
      "source": [
        "regressor.add(Dense(units = 1))"
      ]
    },
    {
      "cell_type": "code",
      "execution_count": null,
      "metadata": {
        "id": "D0qjprskHJT9"
      },
      "outputs": [],
      "source": [
        "regressor.compile(optimizer = 'adam', loss = 'mean_squared_error')"
      ]
    },
    {
      "cell_type": "code",
      "execution_count": null,
      "metadata": {
        "colab": {
          "base_uri": "https://localhost:8080/"
        },
        "id": "wEvR2VkuHZtH",
        "outputId": "1c5901ff-0213-4f6c-fb03-171b3ade4059"
      },
      "outputs": [
        {
          "output_type": "stream",
          "name": "stdout",
          "text": [
            "Epoch 1/100\n",
            "85/85 [==============================] - 24s 163ms/step - loss: 0.0098\n",
            "Epoch 2/100\n",
            "85/85 [==============================] - 14s 166ms/step - loss: 0.0018\n",
            "Epoch 3/100\n",
            "85/85 [==============================] - 14s 163ms/step - loss: 0.0017\n",
            "Epoch 4/100\n",
            "85/85 [==============================] - 14s 164ms/step - loss: 0.0014\n",
            "Epoch 5/100\n",
            "85/85 [==============================] - 14s 169ms/step - loss: 0.0014\n",
            "Epoch 6/100\n",
            "85/85 [==============================] - 13s 155ms/step - loss: 0.0015\n",
            "Epoch 7/100\n",
            "85/85 [==============================] - 13s 149ms/step - loss: 0.0015\n",
            "Epoch 8/100\n",
            "85/85 [==============================] - 13s 156ms/step - loss: 0.0014\n",
            "Epoch 9/100\n",
            "85/85 [==============================] - 14s 163ms/step - loss: 0.0016\n",
            "Epoch 10/100\n",
            "85/85 [==============================] - 14s 163ms/step - loss: 0.0011\n",
            "Epoch 11/100\n",
            "85/85 [==============================] - 14s 163ms/step - loss: 0.0010\n",
            "Epoch 12/100\n",
            "85/85 [==============================] - 15s 179ms/step - loss: 0.0012\n",
            "Epoch 13/100\n",
            "85/85 [==============================] - 14s 161ms/step - loss: 0.0010\n",
            "Epoch 14/100\n",
            "85/85 [==============================] - 14s 161ms/step - loss: 0.0012\n",
            "Epoch 15/100\n",
            "85/85 [==============================] - 14s 164ms/step - loss: 0.0011\n",
            "Epoch 16/100\n",
            "85/85 [==============================] - 14s 161ms/step - loss: 8.9290e-04\n",
            "Epoch 17/100\n",
            "85/85 [==============================] - 13s 157ms/step - loss: 9.7618e-04\n",
            "Epoch 18/100\n",
            "85/85 [==============================] - 15s 179ms/step - loss: 0.0011\n",
            "Epoch 19/100\n",
            "85/85 [==============================] - 12s 145ms/step - loss: 9.6340e-04\n",
            "Epoch 20/100\n",
            "85/85 [==============================] - 13s 151ms/step - loss: 0.0011\n",
            "Epoch 21/100\n",
            "85/85 [==============================] - 14s 160ms/step - loss: 8.3165e-04\n",
            "Epoch 22/100\n",
            "85/85 [==============================] - 13s 157ms/step - loss: 8.4029e-04\n",
            "Epoch 23/100\n",
            "85/85 [==============================] - 13s 157ms/step - loss: 0.0010\n",
            "Epoch 24/100\n",
            "85/85 [==============================] - 14s 160ms/step - loss: 8.1854e-04\n",
            "Epoch 25/100\n",
            "85/85 [==============================] - 13s 158ms/step - loss: 8.6587e-04\n",
            "Epoch 26/100\n",
            "85/85 [==============================] - 13s 158ms/step - loss: 9.2422e-04\n",
            "Epoch 27/100\n",
            "85/85 [==============================] - 14s 161ms/step - loss: 8.3846e-04\n",
            "Epoch 28/100\n",
            "85/85 [==============================] - 13s 157ms/step - loss: 9.0421e-04\n",
            "Epoch 29/100\n",
            "85/85 [==============================] - 14s 158ms/step - loss: 7.2711e-04\n",
            "Epoch 30/100\n",
            "85/85 [==============================] - 13s 148ms/step - loss: 7.7089e-04\n",
            "Epoch 31/100\n",
            "85/85 [==============================] - 13s 154ms/step - loss: 9.7059e-04\n",
            "Epoch 32/100\n",
            "85/85 [==============================] - 14s 161ms/step - loss: 8.4362e-04\n",
            "Epoch 33/100\n",
            "85/85 [==============================] - 14s 161ms/step - loss: 7.0103e-04\n",
            "Epoch 34/100\n",
            "85/85 [==============================] - 14s 160ms/step - loss: 8.6926e-04\n",
            "Epoch 35/100\n",
            "85/85 [==============================] - 13s 157ms/step - loss: 0.0010\n",
            "Epoch 36/100\n",
            "85/85 [==============================] - 13s 159ms/step - loss: 7.7919e-04\n",
            "Epoch 37/100\n",
            "85/85 [==============================] - 14s 161ms/step - loss: 8.4224e-04\n",
            "Epoch 38/100\n",
            "85/85 [==============================] - 14s 160ms/step - loss: 7.7790e-04\n",
            "Epoch 39/100\n",
            "85/85 [==============================] - 15s 179ms/step - loss: 7.3502e-04\n",
            "Epoch 40/100\n",
            "85/85 [==============================] - 12s 144ms/step - loss: 7.5229e-04\n",
            "Epoch 41/100\n",
            "85/85 [==============================] - 13s 157ms/step - loss: 7.9585e-04\n",
            "Epoch 42/100\n",
            "85/85 [==============================] - 14s 165ms/step - loss: 8.7261e-04\n",
            "Epoch 43/100\n",
            "85/85 [==============================] - 13s 156ms/step - loss: 7.8749e-04\n",
            "Epoch 44/100\n",
            "85/85 [==============================] - 13s 157ms/step - loss: 8.3134e-04\n",
            "Epoch 45/100\n",
            "85/85 [==============================] - 14s 160ms/step - loss: 7.5576e-04\n",
            "Epoch 46/100\n",
            "85/85 [==============================] - 13s 157ms/step - loss: 7.2682e-04\n",
            "Epoch 47/100\n",
            "85/85 [==============================] - 13s 156ms/step - loss: 7.7680e-04\n",
            "Epoch 48/100\n",
            "85/85 [==============================] - 13s 158ms/step - loss: 6.9599e-04\n",
            "Epoch 49/100\n",
            "85/85 [==============================] - 13s 156ms/step - loss: 7.9807e-04\n",
            "Epoch 50/100\n",
            "85/85 [==============================] - 13s 150ms/step - loss: 7.6828e-04\n",
            "Epoch 51/100\n",
            "85/85 [==============================] - 13s 152ms/step - loss: 7.1984e-04\n",
            "Epoch 52/100\n",
            "85/85 [==============================] - 13s 157ms/step - loss: 6.9432e-04\n",
            "Epoch 53/100\n",
            "85/85 [==============================] - 14s 163ms/step - loss: 6.9050e-04\n",
            "Epoch 54/100\n",
            "85/85 [==============================] - 14s 165ms/step - loss: 7.2123e-04\n",
            "Epoch 55/100\n",
            "85/85 [==============================] - 14s 166ms/step - loss: 8.2788e-04\n",
            "Epoch 56/100\n",
            "85/85 [==============================] - 13s 159ms/step - loss: 7.2482e-04\n",
            "Epoch 57/100\n",
            "85/85 [==============================] - 13s 157ms/step - loss: 7.3770e-04\n",
            "Epoch 58/100\n",
            "85/85 [==============================] - 13s 155ms/step - loss: 7.2385e-04\n",
            "Epoch 59/100\n",
            "85/85 [==============================] - 13s 157ms/step - loss: 7.0335e-04\n",
            "Epoch 60/100\n",
            "85/85 [==============================] - 15s 183ms/step - loss: 6.6069e-04\n",
            "Epoch 61/100\n",
            "85/85 [==============================] - 13s 148ms/step - loss: 6.6921e-04\n",
            "Epoch 62/100\n",
            "85/85 [==============================] - 12s 142ms/step - loss: 7.8793e-04\n",
            "Epoch 63/100\n",
            "85/85 [==============================] - 14s 159ms/step - loss: 7.7455e-04\n",
            "Epoch 64/100\n",
            "85/85 [==============================] - 14s 161ms/step - loss: 6.9924e-04\n",
            "Epoch 65/100\n",
            "85/85 [==============================] - 14s 160ms/step - loss: 7.0818e-04\n",
            "Epoch 66/100\n",
            "85/85 [==============================] - 13s 157ms/step - loss: 6.1413e-04\n",
            "Epoch 67/100\n",
            "85/85 [==============================] - 13s 156ms/step - loss: 6.6796e-04\n",
            "Epoch 68/100\n",
            "85/85 [==============================] - 14s 161ms/step - loss: 6.5170e-04\n",
            "Epoch 69/100\n",
            "85/85 [==============================] - 13s 157ms/step - loss: 6.8127e-04\n",
            "Epoch 70/100\n",
            "85/85 [==============================] - 13s 155ms/step - loss: 6.0591e-04\n",
            "Epoch 71/100\n",
            "85/85 [==============================] - 13s 149ms/step - loss: 6.4597e-04\n",
            "Epoch 72/100\n",
            "85/85 [==============================] - 13s 146ms/step - loss: 6.0318e-04\n",
            "Epoch 73/100\n",
            "85/85 [==============================] - 13s 153ms/step - loss: 8.0334e-04\n",
            "Epoch 74/100\n",
            "85/85 [==============================] - 14s 160ms/step - loss: 7.0202e-04\n",
            "Epoch 75/100\n",
            "85/85 [==============================] - 14s 163ms/step - loss: 6.5948e-04\n",
            "Epoch 76/100\n",
            "85/85 [==============================] - 14s 160ms/step - loss: 6.5984e-04\n",
            "Epoch 77/100\n",
            "85/85 [==============================] - 14s 160ms/step - loss: 6.9799e-04\n",
            "Epoch 78/100\n",
            "85/85 [==============================] - 14s 159ms/step - loss: 6.2700e-04\n",
            "Epoch 79/100\n",
            "85/85 [==============================] - 14s 159ms/step - loss: 5.7288e-04\n",
            "Epoch 80/100\n",
            "85/85 [==============================] - 14s 160ms/step - loss: 6.4469e-04\n",
            "Epoch 81/100\n",
            "85/85 [==============================] - 16s 190ms/step - loss: 6.4846e-04\n",
            "Epoch 82/100\n",
            "85/85 [==============================] - 13s 153ms/step - loss: 6.6602e-04\n",
            "Epoch 83/100\n",
            "85/85 [==============================] - 12s 145ms/step - loss: 6.3776e-04\n",
            "Epoch 84/100\n",
            "85/85 [==============================] - 13s 151ms/step - loss: 6.2617e-04\n",
            "Epoch 85/100\n",
            "85/85 [==============================] - 14s 161ms/step - loss: 6.2586e-04\n",
            "Epoch 86/100\n",
            "85/85 [==============================] - 14s 163ms/step - loss: 6.1364e-04\n",
            "Epoch 87/100\n",
            "85/85 [==============================] - 14s 160ms/step - loss: 6.6122e-04\n",
            "Epoch 88/100\n",
            "85/85 [==============================] - 13s 157ms/step - loss: 6.0422e-04\n",
            "Epoch 89/100\n",
            "85/85 [==============================] - 13s 158ms/step - loss: 6.8080e-04\n",
            "Epoch 90/100\n",
            "85/85 [==============================] - 14s 160ms/step - loss: 6.7295e-04\n",
            "Epoch 91/100\n",
            "85/85 [==============================] - 14s 160ms/step - loss: 6.9117e-04\n",
            "Epoch 92/100\n",
            "85/85 [==============================] - 14s 167ms/step - loss: 6.4548e-04\n",
            "Epoch 93/100\n",
            "85/85 [==============================] - 14s 161ms/step - loss: 5.9745e-04\n",
            "Epoch 94/100\n",
            "85/85 [==============================] - 13s 151ms/step - loss: 6.6269e-04\n",
            "Epoch 95/100\n",
            "85/85 [==============================] - 14s 160ms/step - loss: 6.9723e-04\n",
            "Epoch 96/100\n",
            "85/85 [==============================] - 14s 167ms/step - loss: 5.5524e-04\n",
            "Epoch 97/100\n",
            "85/85 [==============================] - 14s 158ms/step - loss: 6.3674e-04\n",
            "Epoch 98/100\n",
            "85/85 [==============================] - 14s 163ms/step - loss: 7.2647e-04\n",
            "Epoch 99/100\n",
            "85/85 [==============================] - 14s 162ms/step - loss: 5.8975e-04\n",
            "Epoch 100/100\n",
            "85/85 [==============================] - 14s 161ms/step - loss: 5.7522e-04\n"
          ]
        },
        {
          "output_type": "execute_result",
          "data": {
            "text/plain": [
              "<keras.callbacks.History at 0x7f702f238640>"
            ]
          },
          "metadata": {},
          "execution_count": 40
        }
      ],
      "source": [
        "regressor.fit(x_train , y_train , epochs = 100 , batch_size=32)"
      ]
    },
    {
      "cell_type": "code",
      "execution_count": null,
      "metadata": {
        "id": "r-5YApW2KWpL"
      },
      "outputs": [],
      "source": [
        "dataset_test = pd.read_csv('MSFT_test.csv')\n",
        "real_stock_price = dataset_test.iloc[:, 1:2].values"
      ]
    },
    {
      "cell_type": "code",
      "execution_count": null,
      "metadata": {
        "colab": {
          "base_uri": "https://localhost:8080/"
        },
        "id": "DBCQs6zkKvFT",
        "outputId": "751ca0a3-215d-447c-bff9-11d11cff157f"
      },
      "outputs": [
        {
          "output_type": "stream",
          "name": "stdout",
          "text": [
            "16/16 [==============================] - 3s 38ms/step\n"
          ]
        }
      ],
      "source": [
        "dataset_total = pd.concat((dataset_train['Open'], dataset_test['Open']), axis = 0)\n",
        "inputs = dataset_total[len(dataset_total) - len(dataset_test) - 60:].values\n",
        "inputs = inputs.reshape (-1,1)\n",
        "inputs = sc.transform(inputs)\n",
        "x_test = []\n",
        "for i in range(60,len(inputs)):\n",
        "  x_test.append(inputs[i-60:i , 0])\n",
        "x_test = np.array(x_test)\n",
        "x_test = np.reshape(x_test, newshape = (x_test.shape[0],x_test.shape[1], 1))\n",
        "predicted_stock_price = regressor.predict(x_test)\n",
        "predicted_stock_price = sc.inverse_transform(predicted_stock_price)\n"
      ]
    },
    {
      "cell_type": "code",
      "execution_count": null,
      "metadata": {
        "colab": {
          "base_uri": "https://localhost:8080/",
          "height": 472
        },
        "id": "nwYOjopYQxVb",
        "outputId": "ab4638c2-fc18-4ee9-851b-608400b3dda3"
      },
      "outputs": [
        {
          "output_type": "display_data",
          "data": {
            "text/plain": [
              "<Figure size 640x480 with 1 Axes>"
            ],
            "image/png": "[encoded data removed]"
          },
          "metadata": {}
        }
      ],
      "source": [
        "plt.plot(real_stock_price, color ='red' , label = 'Real Microsoft Stock Price')\n",
        "plt.plot(predicted_stock_price, color = 'blue' , label = 'Predicted Microsoft Stock Price')\n",
        "plt.title('Microsoft Stock Price Prediction')\n",
        "plt.xlabel('Time(Day)')\n",
        "plt.ylabel('Microsoft Stock Price')\n",
        "plt.legend()\n",
        "plt.show()"
      ]
    }
  ],
  "metadata": {
    "colab": {
      "provenance": []
    },
    "kernelspec": {
      "display_name": "Python 3",
      "name": "python3"
    },
    "language_info": {
      "name": "python"
    }
  },
  "nbformat": 4,
  "nbformat_minor": 0
}